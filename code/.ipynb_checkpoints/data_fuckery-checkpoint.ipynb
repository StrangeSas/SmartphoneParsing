{
 "cells": [
  {
   "cell_type": "code",
   "execution_count": 1,
   "id": "a77fc2e7-1172-4e22-a509-6cf11f21948f",
   "metadata": {
    "tags": []
   },
   "outputs": [],
   "source": [
    "import pandas as pd\n",
    "import numpy as np\n",
    "import matplotlib.pyplot as plt\n",
    "import seaborn as sns\n",
    "import pickle \n",
    "import plotly.express as px\n",
    "\n",
    "\n",
    "from sklearn.preprocessing import MinMaxScaler\n",
    "from sklearn.preprocessing import OneHotEncoder\n",
    "from sklearn.model_selection import train_test_split"
   ]
  },
  {
   "cell_type": "code",
   "execution_count": 2,
   "id": "158979a4-cc6e-4c80-9f8e-dde225513199",
   "metadata": {
    "tags": []
   },
   "outputs": [],
   "source": [
    "df = pd.read_csv(\"../db/smartphones.csv\")"
   ]
  },
  {
   "cell_type": "code",
   "execution_count": 3,
   "id": "eebb5165-d1be-4f98-b70f-e94d059ef4ac",
   "metadata": {
    "tags": []
   },
   "outputs": [],
   "source": [
    "df = df.drop(df.columns[0], axis=1)"
   ]
  },
  {
   "cell_type": "code",
   "execution_count": 4,
   "id": "ec26e95a-9e04-43f3-83b7-606f1bc7d015",
   "metadata": {
    "tags": []
   },
   "outputs": [],
   "source": [
    "df['sales'] = df['sales'].str.lower()\n",
    "df['rec_proc'] = df['rec_proc'].str.lower()"
   ]
  },
  {
   "cell_type": "code",
   "execution_count": 5,
   "id": "4c10fca3-1db4-4ac9-89da-3dcab9aa0ba8",
   "metadata": {
    "tags": []
   },
   "outputs": [],
   "source": [
    "#Так, сейчас мне нужно покупки закинуть в сейлс, а рекомендации в rec, бесплатную доставку на NAN поменять"
   ]
  },
  {
   "cell_type": "code",
   "execution_count": 6,
   "id": "ee03caf3-8b0c-4612-b053-abd507316e26",
   "metadata": {
    "tags": []
   },
   "outputs": [
    {
     "name": "stdout",
     "output_type": "stream",
     "text": [
      "<class 'pandas.core.frame.DataFrame'>\n",
      "RangeIndex: 227 entries, 0 to 226\n",
      "Data columns (total 13 columns):\n",
      " #   Column      Non-Null Count  Dtype  \n",
      "---  ------      --------------  -----  \n",
      " 0   link        227 non-null    object \n",
      " 1   name        227 non-null    object \n",
      " 2   price       227 non-null    object \n",
      " 3   sales       227 non-null    object \n",
      " 4   stars       133 non-null    object \n",
      " 5   rec_proc    93 non-null     object \n",
      " 6   review_num  152 non-null    float64\n",
      " 7   OS          222 non-null    object \n",
      " 8   RAM         218 non-null    object \n",
      " 9   ROM         214 non-null    object \n",
      " 10  diag        214 non-null    object \n",
      " 11  bat         222 non-null    object \n",
      " 12  cam         78 non-null     object \n",
      "dtypes: float64(1), object(12)\n",
      "memory usage: 23.2+ KB\n"
     ]
    }
   ],
   "source": [
    "NaN = float('nan')\n",
    "df.info()"
   ]
  },
  {
   "cell_type": "code",
   "execution_count": 7,
   "id": "3224d423-317a-4bcb-ac57-45535a5cab44",
   "metadata": {
    "tags": []
   },
   "outputs": [
    {
     "data": {
      "text/html": [
       "<div>\n",
       "<style scoped>\n",
       "    .dataframe tbody tr th:only-of-type {\n",
       "        vertical-align: middle;\n",
       "    }\n",
       "\n",
       "    .dataframe tbody tr th {\n",
       "        vertical-align: top;\n",
       "    }\n",
       "\n",
       "    .dataframe thead th {\n",
       "        text-align: right;\n",
       "    }\n",
       "</style>\n",
       "<table border=\"1\" class=\"dataframe\">\n",
       "  <thead>\n",
       "    <tr style=\"text-align: right;\">\n",
       "      <th></th>\n",
       "      <th>link</th>\n",
       "      <th>name</th>\n",
       "      <th>price</th>\n",
       "      <th>sales</th>\n",
       "      <th>stars</th>\n",
       "      <th>rec_proc</th>\n",
       "      <th>review_num</th>\n",
       "      <th>OS</th>\n",
       "      <th>RAM</th>\n",
       "      <th>ROM</th>\n",
       "      <th>diag</th>\n",
       "      <th>bat</th>\n",
       "      <th>cam</th>\n",
       "    </tr>\n",
       "  </thead>\n",
       "  <tbody>\n",
       "    <tr>\n",
       "      <th>0</th>\n",
       "      <td>https://www.joom.ru/ru/products/63dd574ea5e8de...</td>\n",
       "      <td>Смартфон Apple iPhone 13 mini</td>\n",
       "      <td>72 939 ₽</td>\n",
       "      <td>11 покупок</td>\n",
       "      <td>5</td>\n",
       "      <td>бесплатная доставка 2-9 мая</td>\n",
       "      <td>7.0</td>\n",
       "      <td>iOS 16</td>\n",
       "      <td>4 ГБ</td>\n",
       "      <td>128 ГБ</td>\n",
       "      <td>5,4\"</td>\n",
       "      <td>2 438 мА·ч</td>\n",
       "      <td>12 мегапикселей</td>\n",
       "    </tr>\n",
       "    <tr>\n",
       "      <th>1</th>\n",
       "      <td>https://www.joom.ru/ru/products/6363ea17336db5...</td>\n",
       "      <td>Смартфон Samsung Galaxy S21 5G</td>\n",
       "      <td>71 912 ₽</td>\n",
       "      <td>бесплатная доставка 2-9 мая</td>\n",
       "      <td>NaN</td>\n",
       "      <td>NaN</td>\n",
       "      <td>NaN</td>\n",
       "      <td>Android 12</td>\n",
       "      <td>NaN</td>\n",
       "      <td>NaN</td>\n",
       "      <td>6,2\"</td>\n",
       "      <td>4 000 мА·ч</td>\n",
       "      <td>NaN</td>\n",
       "    </tr>\n",
       "    <tr>\n",
       "      <th>2</th>\n",
       "      <td>https://www.joom.ru/ru/products/65fbed2bc1423f...</td>\n",
       "      <td>Xiaomi 14 Смартфон Leica Optics 6,36 дюйма, 1,...</td>\n",
       "      <td>70 699 ₽</td>\n",
       "      <td>доставка в пункт выдачи 6 мая - 5 июня</td>\n",
       "      <td>NaN</td>\n",
       "      <td>NaN</td>\n",
       "      <td>NaN</td>\n",
       "      <td>Android 14</td>\n",
       "      <td>12 ГБ</td>\n",
       "      <td>256 ГБ / 512 ГБ</td>\n",
       "      <td>6,36\"</td>\n",
       "      <td>4 610 мА·ч</td>\n",
       "      <td>NaN</td>\n",
       "    </tr>\n",
       "    <tr>\n",
       "      <th>3</th>\n",
       "      <td>https://www.joom.ru/ru/products/650adc735791b8...</td>\n",
       "      <td>Apple iPhone 15</td>\n",
       "      <td>69 676 ₽</td>\n",
       "      <td>96% рекомендуют</td>\n",
       "      <td>4,9</td>\n",
       "      <td>642 покупки</td>\n",
       "      <td>91.0</td>\n",
       "      <td>iOS 17</td>\n",
       "      <td>6 ГБ</td>\n",
       "      <td>128 ГБ / 256 ГБ / 512 ГБ</td>\n",
       "      <td>6,1\"</td>\n",
       "      <td>3 349 мА·ч</td>\n",
       "      <td>48 мегапикселей</td>\n",
       "    </tr>\n",
       "    <tr>\n",
       "      <th>4</th>\n",
       "      <td>https://www.joom.ru/ru/products/636b6ae413c02d...</td>\n",
       "      <td>Смартфон Google Pixel 7 Pro, 12/128 ГБ</td>\n",
       "      <td>65 748 ₽</td>\n",
       "      <td>бесплатная доставка 2-9 мая</td>\n",
       "      <td>5</td>\n",
       "      <td>NaN</td>\n",
       "      <td>2.0</td>\n",
       "      <td>Android 13</td>\n",
       "      <td>12 ГБ</td>\n",
       "      <td>128 ГБ</td>\n",
       "      <td>6,71\"</td>\n",
       "      <td>5 000 мА·ч</td>\n",
       "      <td>NaN</td>\n",
       "    </tr>\n",
       "  </tbody>\n",
       "</table>\n",
       "</div>"
      ],
      "text/plain": [
       "                                                link  \\\n",
       "0  https://www.joom.ru/ru/products/63dd574ea5e8de...   \n",
       "1  https://www.joom.ru/ru/products/6363ea17336db5...   \n",
       "2  https://www.joom.ru/ru/products/65fbed2bc1423f...   \n",
       "3  https://www.joom.ru/ru/products/650adc735791b8...   \n",
       "4  https://www.joom.ru/ru/products/636b6ae413c02d...   \n",
       "\n",
       "                                                name     price  \\\n",
       "0                      Смартфон Apple iPhone 13 mini  72 939 ₽   \n",
       "1                     Смартфон Samsung Galaxy S21 5G  71 912 ₽   \n",
       "2  Xiaomi 14 Смартфон Leica Optics 6,36 дюйма, 1,...  70 699 ₽   \n",
       "3                                    Apple iPhone 15  69 676 ₽   \n",
       "4             Смартфон Google Pixel 7 Pro, 12/128 ГБ  65 748 ₽   \n",
       "\n",
       "                                    sales stars                     rec_proc  \\\n",
       "0                              11 покупок     5  бесплатная доставка 2-9 мая   \n",
       "1             бесплатная доставка 2-9 мая   NaN                          NaN   \n",
       "2  доставка в пункт выдачи 6 мая - 5 июня   NaN                          NaN   \n",
       "3                         96% рекомендуют   4,9                  642 покупки   \n",
       "4             бесплатная доставка 2-9 мая     5                          NaN   \n",
       "\n",
       "   review_num          OS    RAM                       ROM   diag         bat  \\\n",
       "0         7.0      iOS 16   4 ГБ                    128 ГБ   5,4\"  2 438 мА·ч   \n",
       "1         NaN  Android 12    NaN                       NaN   6,2\"  4 000 мА·ч   \n",
       "2         NaN  Android 14  12 ГБ           256 ГБ / 512 ГБ  6,36\"  4 610 мА·ч   \n",
       "3        91.0      iOS 17   6 ГБ  128 ГБ / 256 ГБ / 512 ГБ   6,1\"  3 349 мА·ч   \n",
       "4         2.0  Android 13  12 ГБ                    128 ГБ  6,71\"  5 000 мА·ч   \n",
       "\n",
       "               cam  \n",
       "0  12 мегапикселей  \n",
       "1              NaN  \n",
       "2              NaN  \n",
       "3  48 мегапикселей  \n",
       "4              NaN  "
      ]
     },
     "execution_count": 7,
     "metadata": {},
     "output_type": "execute_result"
    }
   ],
   "source": [
    "df.head()"
   ]
  },
  {
   "cell_type": "code",
   "execution_count": 13,
   "id": "1f6da40a-2c81-402d-8f37-db7b00dc1d9a",
   "metadata": {
    "tags": []
   },
   "outputs": [],
   "source": [
    "def correct_fucked_upped_df(index, row, dataframe):\n",
    "    if(\"доставка\" in str(row['sales'])):\n",
    "        dataframe.at[index, 'sales'] = NaN\n",
    "    if(\"доставка\" in str(row['rec_proc'])):\n",
    "        dataframe.at[index, 'rec_proc'] = NaN\n",
    "        \n",
    "    a = row['sales']\n",
    "    b = row['rec_proc']\n",
    "    \n",
    "    if(\"рекоменд\" in str(a)):\n",
    "        dataframe.at[index, 'rec_proc'] = str(b)\n",
    "    if(\"покуп\" in str(b)):\n",
    "        dataframe.at[index, 'sales'] = str(a)"
   ]
  },
  {
   "cell_type": "code",
   "execution_count": 9,
   "id": "d5801a4a-5709-4b4e-991c-7da70c0072bd",
   "metadata": {
    "tags": []
   },
   "outputs": [],
   "source": [
    "cock = df.copy()"
   ]
  },
  {
   "cell_type": "code",
   "execution_count": 10,
   "id": "fd184a9a-1281-4ea0-8172-3c68bee90012",
   "metadata": {
    "tags": []
   },
   "outputs": [],
   "source": [
    "\n",
    "for index, row in cock.iterrows():\n",
    "    correct_fucked_upped_df(index, row, cock)"
   ]
  },
  {
   "cell_type": "code",
   "execution_count": 17,
   "id": "101c2255-2adb-4d42-8a9c-d476f44bf3be",
   "metadata": {
    "tags": []
   },
   "outputs": [],
   "source": [
    "balls = cock[cock[\"sales\"].str.contains(\"рекоменд\", na=False)]"
   ]
  },
  {
   "cell_type": "code",
   "execution_count": 24,
   "id": "bb226758-561b-4901-93e1-1b515c1fb940",
   "metadata": {
    "tags": []
   },
   "outputs": [],
   "source": [
    "\n",
    "for index, row in balls.iterrows():\n",
    "    correct_fucked_upped_df(index, row, cock)"
   ]
  },
  {
   "cell_type": "code",
   "execution_count": 23,
   "id": "01174877-4939-454e-a79c-580dc5a52609",
   "metadata": {
    "tags": []
   },
   "outputs": [],
   "source": [
    "def correct__upped_df(index, row, dataframe):\n",
    "    if(\"доставка\" in str(row['sales'])):\n",
    "        dataframe.at[index, 'sales'] = NaN\n",
    "    if(\"доставка\" in str(row['rec_proc'])):\n",
    "        dataframe.at[index, 'rec_proc'] = NaN\n",
    "        \n",
    "    a = row['sales']\n",
    "    b = row['rec_proc']\n",
    "    \n",
    "    if(\"рекоменд\" in str(row['sales'])):\n",
    "        dataframe.at[index, 'rec_proc'] = b\n",
    "    if(\"покуп\" in str(row['rec_proc'])):\n",
    "        dataframe.at[index, 'sales'] = a"
   ]
  },
  {
   "cell_type": "code",
   "execution_count": 20,
   "id": "19f1d6da-4d9d-40b5-9c52-1f6a458600c1",
   "metadata": {
    "tags": []
   },
   "outputs": [],
   "source": [
    "balls2 = cock[cock[\"rec_proc\"].str.contains(\"покуп\", na=False)]"
   ]
  },
  {
   "cell_type": "code",
   "execution_count": 25,
   "id": "84a0451b-5bf9-4f9c-a511-a55a4e0fd0bb",
   "metadata": {
    "tags": []
   },
   "outputs": [
    {
     "name": "stdout",
     "output_type": "stream",
     "text": [
      "<class 'pandas.core.frame.DataFrame'>\n",
      "Index: 53 entries, 3 to 225\n",
      "Data columns (total 13 columns):\n",
      " #   Column      Non-Null Count  Dtype  \n",
      "---  ------      --------------  -----  \n",
      " 0   link        53 non-null     object \n",
      " 1   name        53 non-null     object \n",
      " 2   price       53 non-null     object \n",
      " 3   sales       53 non-null     object \n",
      " 4   stars       53 non-null     object \n",
      " 5   rec_proc    53 non-null     object \n",
      " 6   review_num  53 non-null     float64\n",
      " 7   OS          53 non-null     object \n",
      " 8   RAM         50 non-null     object \n",
      " 9   ROM         49 non-null     object \n",
      " 10  diag        49 non-null     object \n",
      " 11  bat         53 non-null     object \n",
      " 12  cam         32 non-null     object \n",
      "dtypes: float64(1), object(12)\n",
      "memory usage: 5.8+ KB\n"
     ]
    }
   ],
   "source": [
    "balls.info()"
   ]
  },
  {
   "cell_type": "code",
   "execution_count": 14,
   "id": "f65a77b9-6583-48c8-8f84-4527fb26a6b8",
   "metadata": {
    "tags": []
   },
   "outputs": [
    {
     "data": {
      "text/html": [
       "<div>\n",
       "<style scoped>\n",
       "    .dataframe tbody tr th:only-of-type {\n",
       "        vertical-align: middle;\n",
       "    }\n",
       "\n",
       "    .dataframe tbody tr th {\n",
       "        vertical-align: top;\n",
       "    }\n",
       "\n",
       "    .dataframe thead th {\n",
       "        text-align: right;\n",
       "    }\n",
       "</style>\n",
       "<table border=\"1\" class=\"dataframe\">\n",
       "  <thead>\n",
       "    <tr style=\"text-align: right;\">\n",
       "      <th></th>\n",
       "      <th>link</th>\n",
       "      <th>name</th>\n",
       "      <th>price</th>\n",
       "      <th>sales</th>\n",
       "      <th>stars</th>\n",
       "      <th>rec_proc</th>\n",
       "      <th>review_num</th>\n",
       "      <th>OS</th>\n",
       "      <th>RAM</th>\n",
       "      <th>ROM</th>\n",
       "      <th>diag</th>\n",
       "      <th>bat</th>\n",
       "      <th>cam</th>\n",
       "    </tr>\n",
       "  </thead>\n",
       "  <tbody>\n",
       "    <tr>\n",
       "      <th>0</th>\n",
       "      <td>https://www.joom.ru/ru/products/63dd574ea5e8de...</td>\n",
       "      <td>Смартфон Apple iPhone 13 mini</td>\n",
       "      <td>72 939 ₽</td>\n",
       "      <td>11 покупок</td>\n",
       "      <td>5</td>\n",
       "      <td>NaN</td>\n",
       "      <td>7.0</td>\n",
       "      <td>iOS 16</td>\n",
       "      <td>4 ГБ</td>\n",
       "      <td>128 ГБ</td>\n",
       "      <td>5,4\"</td>\n",
       "      <td>2 438 мА·ч</td>\n",
       "      <td>12 мегапикселей</td>\n",
       "    </tr>\n",
       "    <tr>\n",
       "      <th>1</th>\n",
       "      <td>https://www.joom.ru/ru/products/6363ea17336db5...</td>\n",
       "      <td>Смартфон Samsung Galaxy S21 5G</td>\n",
       "      <td>71 912 ₽</td>\n",
       "      <td>NaN</td>\n",
       "      <td>NaN</td>\n",
       "      <td>NaN</td>\n",
       "      <td>NaN</td>\n",
       "      <td>Android 12</td>\n",
       "      <td>NaN</td>\n",
       "      <td>NaN</td>\n",
       "      <td>6,2\"</td>\n",
       "      <td>4 000 мА·ч</td>\n",
       "      <td>NaN</td>\n",
       "    </tr>\n",
       "    <tr>\n",
       "      <th>2</th>\n",
       "      <td>https://www.joom.ru/ru/products/65fbed2bc1423f...</td>\n",
       "      <td>Xiaomi 14 Смартфон Leica Optics 6,36 дюйма, 1,...</td>\n",
       "      <td>70 699 ₽</td>\n",
       "      <td>NaN</td>\n",
       "      <td>NaN</td>\n",
       "      <td>NaN</td>\n",
       "      <td>NaN</td>\n",
       "      <td>Android 14</td>\n",
       "      <td>12 ГБ</td>\n",
       "      <td>256 ГБ / 512 ГБ</td>\n",
       "      <td>6,36\"</td>\n",
       "      <td>4 610 мА·ч</td>\n",
       "      <td>NaN</td>\n",
       "    </tr>\n",
       "    <tr>\n",
       "      <th>3</th>\n",
       "      <td>https://www.joom.ru/ru/products/650adc735791b8...</td>\n",
       "      <td>Apple iPhone 15</td>\n",
       "      <td>69 676 ₽</td>\n",
       "      <td>96% рекомендуют</td>\n",
       "      <td>4,9</td>\n",
       "      <td>642 покупки</td>\n",
       "      <td>91.0</td>\n",
       "      <td>iOS 17</td>\n",
       "      <td>6 ГБ</td>\n",
       "      <td>128 ГБ / 256 ГБ / 512 ГБ</td>\n",
       "      <td>6,1\"</td>\n",
       "      <td>3 349 мА·ч</td>\n",
       "      <td>48 мегапикселей</td>\n",
       "    </tr>\n",
       "    <tr>\n",
       "      <th>4</th>\n",
       "      <td>https://www.joom.ru/ru/products/636b6ae413c02d...</td>\n",
       "      <td>Смартфон Google Pixel 7 Pro, 12/128 ГБ</td>\n",
       "      <td>65 748 ₽</td>\n",
       "      <td>NaN</td>\n",
       "      <td>5</td>\n",
       "      <td>NaN</td>\n",
       "      <td>2.0</td>\n",
       "      <td>Android 13</td>\n",
       "      <td>12 ГБ</td>\n",
       "      <td>128 ГБ</td>\n",
       "      <td>6,71\"</td>\n",
       "      <td>5 000 мА·ч</td>\n",
       "      <td>NaN</td>\n",
       "    </tr>\n",
       "  </tbody>\n",
       "</table>\n",
       "</div>"
      ],
      "text/plain": [
       "                                                link  \\\n",
       "0  https://www.joom.ru/ru/products/63dd574ea5e8de...   \n",
       "1  https://www.joom.ru/ru/products/6363ea17336db5...   \n",
       "2  https://www.joom.ru/ru/products/65fbed2bc1423f...   \n",
       "3  https://www.joom.ru/ru/products/650adc735791b8...   \n",
       "4  https://www.joom.ru/ru/products/636b6ae413c02d...   \n",
       "\n",
       "                                                name     price  \\\n",
       "0                      Смартфон Apple iPhone 13 mini  72 939 ₽   \n",
       "1                     Смартфон Samsung Galaxy S21 5G  71 912 ₽   \n",
       "2  Xiaomi 14 Смартфон Leica Optics 6,36 дюйма, 1,...  70 699 ₽   \n",
       "3                                    Apple iPhone 15  69 676 ₽   \n",
       "4             Смартфон Google Pixel 7 Pro, 12/128 ГБ  65 748 ₽   \n",
       "\n",
       "             sales stars     rec_proc  review_num          OS    RAM  \\\n",
       "0       11 покупок     5          NaN         7.0      iOS 16   4 ГБ   \n",
       "1              NaN   NaN          NaN         NaN  Android 12    NaN   \n",
       "2              NaN   NaN          NaN         NaN  Android 14  12 ГБ   \n",
       "3  96% рекомендуют   4,9  642 покупки        91.0      iOS 17   6 ГБ   \n",
       "4              NaN     5          NaN         2.0  Android 13  12 ГБ   \n",
       "\n",
       "                        ROM   diag         bat              cam  \n",
       "0                    128 ГБ   5,4\"  2 438 мА·ч  12 мегапикселей  \n",
       "1                       NaN   6,2\"  4 000 мА·ч              NaN  \n",
       "2           256 ГБ / 512 ГБ  6,36\"  4 610 мА·ч              NaN  \n",
       "3  128 ГБ / 256 ГБ / 512 ГБ   6,1\"  3 349 мА·ч  48 мегапикселей  \n",
       "4                    128 ГБ  6,71\"  5 000 мА·ч              NaN  "
      ]
     },
     "execution_count": 14,
     "metadata": {},
     "output_type": "execute_result"
    }
   ],
   "source": [
    "cock.head()"
   ]
  },
  {
   "cell_type": "code",
   "execution_count": 27,
   "id": "a3babc0b-f192-44f0-999e-e68e75c4db3e",
   "metadata": {
    "tags": []
   },
   "outputs": [
    {
     "data": {
      "text/html": [
       "<div>\n",
       "<style scoped>\n",
       "    .dataframe tbody tr th:only-of-type {\n",
       "        vertical-align: middle;\n",
       "    }\n",
       "\n",
       "    .dataframe tbody tr th {\n",
       "        vertical-align: top;\n",
       "    }\n",
       "\n",
       "    .dataframe thead th {\n",
       "        text-align: right;\n",
       "    }\n",
       "</style>\n",
       "<table border=\"1\" class=\"dataframe\">\n",
       "  <thead>\n",
       "    <tr style=\"text-align: right;\">\n",
       "      <th></th>\n",
       "      <th>link</th>\n",
       "      <th>name</th>\n",
       "      <th>price</th>\n",
       "      <th>sales</th>\n",
       "      <th>stars</th>\n",
       "      <th>rec_proc</th>\n",
       "      <th>review_num</th>\n",
       "      <th>OS</th>\n",
       "      <th>RAM</th>\n",
       "      <th>ROM</th>\n",
       "      <th>diag</th>\n",
       "      <th>bat</th>\n",
       "      <th>cam</th>\n",
       "    </tr>\n",
       "  </thead>\n",
       "  <tbody>\n",
       "    <tr>\n",
       "      <th>3</th>\n",
       "      <td>https://www.joom.ru/ru/products/650adc735791b8...</td>\n",
       "      <td>Apple iPhone 15</td>\n",
       "      <td>69 676 ₽</td>\n",
       "      <td>96% рекомендуют</td>\n",
       "      <td>4,9</td>\n",
       "      <td>642 покупки</td>\n",
       "      <td>91.0</td>\n",
       "      <td>iOS 17</td>\n",
       "      <td>6 ГБ</td>\n",
       "      <td>128 ГБ / 256 ГБ / 512 ГБ</td>\n",
       "      <td>6,1\"</td>\n",
       "      <td>3 349 мА·ч</td>\n",
       "      <td>48 мегапикселей</td>\n",
       "    </tr>\n",
       "    <tr>\n",
       "      <th>12</th>\n",
       "      <td>https://www.joom.ru/ru/products/631dd6cf3dd293...</td>\n",
       "      <td>Смартфон Apple iPhone 12 mini</td>\n",
       "      <td>55 475 ₽</td>\n",
       "      <td>100% рекомендуют</td>\n",
       "      <td>5</td>\n",
       "      <td>33 покупки</td>\n",
       "      <td>15.0</td>\n",
       "      <td>iOS</td>\n",
       "      <td>NaN</td>\n",
       "      <td>NaN</td>\n",
       "      <td>NaN</td>\n",
       "      <td>2 227 мА·ч</td>\n",
       "      <td>12 мегапикселей</td>\n",
       "    </tr>\n",
       "    <tr>\n",
       "      <th>15</th>\n",
       "      <td>https://www.joom.ru/ru/products/6290c637f9a6d3...</td>\n",
       "      <td>Смартфон Apple iPhone 12</td>\n",
       "      <td>51 366 ₽</td>\n",
       "      <td>96% рекомендуют</td>\n",
       "      <td>4,9</td>\n",
       "      <td>103 покупки</td>\n",
       "      <td>65.0</td>\n",
       "      <td>iOS</td>\n",
       "      <td>NaN</td>\n",
       "      <td>NaN</td>\n",
       "      <td>NaN</td>\n",
       "      <td>2 775 мА·ч</td>\n",
       "      <td>12 мегапикселей</td>\n",
       "    </tr>\n",
       "    <tr>\n",
       "      <th>20</th>\n",
       "      <td>https://www.joom.ru/ru/products/634ec5f0f01abf...</td>\n",
       "      <td>Смартфон Google Pixel 7</td>\n",
       "      <td>44 174 ₽</td>\n",
       "      <td>99% рекомендуют</td>\n",
       "      <td>5</td>\n",
       "      <td>412 покупок</td>\n",
       "      <td>302.0</td>\n",
       "      <td>Android 13</td>\n",
       "      <td>8 ГБ</td>\n",
       "      <td>NaN</td>\n",
       "      <td>6,32\"</td>\n",
       "      <td>4 355 мА·ч</td>\n",
       "      <td>50 мегапикселей</td>\n",
       "    </tr>\n",
       "    <tr>\n",
       "      <th>22</th>\n",
       "      <td>https://www.joom.ru/ru/products/62960c54d972b9...</td>\n",
       "      <td>Смартфон Apple iPhone 11</td>\n",
       "      <td>42 120 ₽</td>\n",
       "      <td>96% рекомендуют</td>\n",
       "      <td>4,9</td>\n",
       "      <td>134 покупки</td>\n",
       "      <td>95.0</td>\n",
       "      <td>iOS</td>\n",
       "      <td>4 ГБ</td>\n",
       "      <td>64 ГБ / 128 ГБ</td>\n",
       "      <td>NaN</td>\n",
       "      <td>3 110 мА·ч</td>\n",
       "      <td>12 мегапикселей</td>\n",
       "    </tr>\n",
       "  </tbody>\n",
       "</table>\n",
       "</div>"
      ],
      "text/plain": [
       "                                                 link  \\\n",
       "3   https://www.joom.ru/ru/products/650adc735791b8...   \n",
       "12  https://www.joom.ru/ru/products/631dd6cf3dd293...   \n",
       "15  https://www.joom.ru/ru/products/6290c637f9a6d3...   \n",
       "20  https://www.joom.ru/ru/products/634ec5f0f01abf...   \n",
       "22  https://www.joom.ru/ru/products/62960c54d972b9...   \n",
       "\n",
       "                             name     price             sales stars  \\\n",
       "3                 Apple iPhone 15  69 676 ₽   96% рекомендуют   4,9   \n",
       "12  Смартфон Apple iPhone 12 mini  55 475 ₽  100% рекомендуют     5   \n",
       "15       Смартфон Apple iPhone 12  51 366 ₽   96% рекомендуют   4,9   \n",
       "20        Смартфон Google Pixel 7  44 174 ₽   99% рекомендуют     5   \n",
       "22       Смартфон Apple iPhone 11  42 120 ₽   96% рекомендуют   4,9   \n",
       "\n",
       "       rec_proc  review_num          OS   RAM                       ROM  \\\n",
       "3   642 покупки        91.0      iOS 17  6 ГБ  128 ГБ / 256 ГБ / 512 ГБ   \n",
       "12   33 покупки        15.0         iOS   NaN                       NaN   \n",
       "15  103 покупки        65.0         iOS   NaN                       NaN   \n",
       "20  412 покупок       302.0  Android 13  8 ГБ                       NaN   \n",
       "22  134 покупки        95.0         iOS  4 ГБ            64 ГБ / 128 ГБ   \n",
       "\n",
       "     diag         bat              cam  \n",
       "3    6,1\"  3 349 мА·ч  48 мегапикселей  \n",
       "12    NaN  2 227 мА·ч  12 мегапикселей  \n",
       "15    NaN  2 775 мА·ч  12 мегапикселей  \n",
       "20  6,32\"  4 355 мА·ч  50 мегапикселей  \n",
       "22    NaN  3 110 мА·ч  12 мегапикселей  "
      ]
     },
     "execution_count": 27,
     "metadata": {},
     "output_type": "execute_result"
    }
   ],
   "source": [
    "balls.head()"
   ]
  },
  {
   "cell_type": "code",
   "execution_count": 22,
   "id": "a1b45019-3b0c-4cab-90a8-cd9f1868e2be",
   "metadata": {
    "tags": []
   },
   "outputs": [
    {
     "name": "stdout",
     "output_type": "stream",
     "text": [
      "<class 'pandas.core.frame.DataFrame'>\n",
      "Index: 53 entries, 3 to 225\n",
      "Data columns (total 13 columns):\n",
      " #   Column      Non-Null Count  Dtype  \n",
      "---  ------      --------------  -----  \n",
      " 0   link        53 non-null     object \n",
      " 1   name        53 non-null     object \n",
      " 2   price       53 non-null     object \n",
      " 3   sales       53 non-null     object \n",
      " 4   stars       53 non-null     object \n",
      " 5   rec_proc    53 non-null     object \n",
      " 6   review_num  53 non-null     float64\n",
      " 7   OS          53 non-null     object \n",
      " 8   RAM         50 non-null     object \n",
      " 9   ROM         49 non-null     object \n",
      " 10  diag        49 non-null     object \n",
      " 11  bat         53 non-null     object \n",
      " 12  cam         32 non-null     object \n",
      "dtypes: float64(1), object(12)\n",
      "memory usage: 5.8+ KB\n"
     ]
    }
   ],
   "source": [
    "balls2.info()"
   ]
  },
  {
   "cell_type": "code",
   "execution_count": 12,
   "id": "df9a4021-747e-4379-a7d3-c149e6faaae1",
   "metadata": {
    "tags": []
   },
   "outputs": [
    {
     "name": "stdout",
     "output_type": "stream",
     "text": [
      "<class 'pandas.core.frame.DataFrame'>\n",
      "RangeIndex: 227 entries, 0 to 226\n",
      "Data columns (total 13 columns):\n",
      " #   Column      Non-Null Count  Dtype  \n",
      "---  ------      --------------  -----  \n",
      " 0   link        227 non-null    object \n",
      " 1   name        227 non-null    object \n",
      " 2   price       227 non-null    object \n",
      " 3   sales       93 non-null     object \n",
      " 4   stars       133 non-null    object \n",
      " 5   rec_proc    53 non-null     object \n",
      " 6   review_num  152 non-null    float64\n",
      " 7   OS          222 non-null    object \n",
      " 8   RAM         218 non-null    object \n",
      " 9   ROM         214 non-null    object \n",
      " 10  diag        214 non-null    object \n",
      " 11  bat         222 non-null    object \n",
      " 12  cam         78 non-null     object \n",
      "dtypes: float64(1), object(12)\n",
      "memory usage: 23.2+ KB\n"
     ]
    }
   ],
   "source": [
    "cock.info()"
   ]
  },
  {
   "cell_type": "code",
   "execution_count": null,
   "id": "d6ba925b-d417-4d16-8708-9e9970af35e7",
   "metadata": {},
   "outputs": [],
   "source": []
  },
  {
   "cell_type": "code",
   "execution_count": null,
   "id": "e94d7f13-644b-4b2f-9209-ba014fb89f0b",
   "metadata": {},
   "outputs": [],
   "source": []
  },
  {
   "cell_type": "code",
   "execution_count": null,
   "id": "f20c9778-2ef5-4eed-abeb-1d9b1508e385",
   "metadata": {},
   "outputs": [],
   "source": []
  }
 ],
 "metadata": {
  "kernelspec": {
   "display_name": "Python 3 (ipykernel)",
   "language": "python",
   "name": "python3"
  },
  "language_info": {
   "codemirror_mode": {
    "name": "ipython",
    "version": 3
   },
   "file_extension": ".py",
   "mimetype": "text/x-python",
   "name": "python",
   "nbconvert_exporter": "python",
   "pygments_lexer": "ipython3",
   "version": "3.11.8"
  }
 },
 "nbformat": 4,
 "nbformat_minor": 5
}
