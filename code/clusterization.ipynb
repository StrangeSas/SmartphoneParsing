{
 "cells": [
  {
   "cell_type": "code",
   "execution_count": null,
   "id": "37fda771-78c4-4df0-9179-a49cf6866849",
   "metadata": {
    "tags": []
   },
   "outputs": [],
   "source": [
    "import pandas as pd\n",
    "import numpy as np\n",
    "import matplotlib.pyplot as plt\n",
    "import seaborn as sns\n",
    "import pickle \n",
    "import plotly.express as px\n",
    "\n",
    "\n",
    "from sklearn.preprocessing import MinMaxScaler\n",
    "from sklearn.preprocessing import OneHotEncoder\n",
    "from sklearn.model_selection import train_test_split\n"
   ]
  },
  {
   "cell_type": "code",
   "execution_count": null,
   "id": "4c2f9359-2ec7-4497-8bef-af4145b40a37",
   "metadata": {
    "tags": []
   },
   "outputs": [],
   "source": [
    "from sklearn.cluster import KMeans"
   ]
  },
  {
   "cell_type": "code",
   "execution_count": null,
   "id": "05fa5e4d-e03b-4632-b22d-8cad97452d6a",
   "metadata": {
    "tags": []
   },
   "outputs": [],
   "source": [
    "df = pd.read_csv(\"../db/fixed_smartphones.csv\")"
   ]
  },
  {
   "cell_type": "code",
   "execution_count": null,
   "id": "6ebd28fa-9c11-4ebb-b336-1f88bf9ebcf5",
   "metadata": {
    "tags": []
   },
   "outputs": [],
   "source": [
    "df.info()"
   ]
  },
  {
   "cell_type": "code",
   "execution_count": null,
   "id": "4f00e70f-2b07-4847-84a1-e2c58f14a843",
   "metadata": {
    "tags": []
   },
   "outputs": [],
   "source": [
    "df.head()"
   ]
  },
  {
   "cell_type": "code",
   "execution_count": null,
   "id": "f8dd9dc2-1246-4200-8133-09ddb8a839d6",
   "metadata": {},
   "outputs": [],
   "source": [
    "#Необходимо вырезать ссылку на продукт.\n",
    "#Выбрать основные кампании \n",
    "#Избавиться от имени\n",
    "#Подрезать знак рубля в цене\n",
    "#Подрезать покупки\n",
    "#Перевести процентовку рекомендуют в флоат\n",
    "#Количество обзоров в интов\n",
    "#Избавиться от мегапикселей\n",
    "#Избавиться от мА ч\n",
    "#Избавиться от \" в диагонали\n",
    "#Тыкнуть в ROM только первую часть и избавиться от гб\n",
    "#Избавиться от гб в РАМ\n",
    "#Онехотнуть OS\n",
    "#Кластеризировать прикол\n",
    "#"
   ]
  },
  {
   "cell_type": "code",
   "execution_count": null,
   "id": "70a52bc9-bbd1-49d5-9ab8-2b1588d7a745",
   "metadata": {
    "tags": []
   },
   "outputs": [],
   "source": [
    "df['OS'].unique()"
   ]
  },
  {
   "cell_type": "code",
   "execution_count": null,
   "id": "7b9c6a87-76e0-4f9b-8d7f-4d810c496f93",
   "metadata": {
    "tags": []
   },
   "outputs": [],
   "source": [
    "company_names = ['Blackview','Ulefone','KingKong','Xiaomi','Cubot','Oscal','Blackview','Ulefone','Oukitel','Google','Apple']"
   ]
  },
  {
   "cell_type": "code",
   "execution_count": null,
   "id": "c9d63d57-6eab-43ef-b97d-e587242dd9cd",
   "metadata": {
    "tags": []
   },
   "outputs": [],
   "source": [
    "bf_cleaned = df.dropna()"
   ]
  },
  {
   "cell_type": "code",
   "execution_count": null,
   "id": "cd4e8287-b6c1-4826-986a-32a540e5c821",
   "metadata": {
    "tags": []
   },
   "outputs": [],
   "source": [
    "bf_cleaned.info()"
   ]
  },
  {
   "cell_type": "code",
   "execution_count": null,
   "id": "fa4b57ae-a6c0-48e1-a5ab-ccdc39fbfc43",
   "metadata": {
    "tags": []
   },
   "outputs": [],
   "source": [
    "bf_cleaned.head()"
   ]
  },
  {
   "cell_type": "code",
   "execution_count": null,
   "id": "359161c1-94e6-4582-9320-6328667ecb9d",
   "metadata": {
    "tags": []
   },
   "outputs": [],
   "source": [
    "bf_cleaned = bf_cleaned.reset_index()"
   ]
  },
  {
   "cell_type": "code",
   "execution_count": null,
   "id": "ebf04918-aab9-4e3d-ab93-294e97d00db7",
   "metadata": {
    "tags": []
   },
   "outputs": [],
   "source": [
    "bf_cleaned.info()"
   ]
  },
  {
   "cell_type": "code",
   "execution_count": null,
   "id": "16424a5e-fce0-4e9f-9441-9c9897af948f",
   "metadata": {
    "tags": []
   },
   "outputs": [],
   "source": [
    "bf_cleaned = bf_cleaned.drop(['index', 'link'],axis=1)"
   ]
  },
  {
   "cell_type": "code",
   "execution_count": null,
   "id": "8e294ecc-57f9-47dc-b2f1-28a53db3376e",
   "metadata": {
    "tags": []
   },
   "outputs": [],
   "source": [
    "for i in bf_cleaned['name']:\n",
    "    print(i)"
   ]
  },
  {
   "cell_type": "code",
   "execution_count": null,
   "id": "1fe14a65-b665-468a-933c-33a6d38583b4",
   "metadata": {
    "tags": []
   },
   "outputs": [],
   "source": [
    "for index, row in bf_cleaned.iterrows():\n",
    "    for i in company_names:\n",
    "        if i in str(row['name']):\n",
    "            bf_cleaned.at[index, 'name'] = i"
   ]
  },
  {
   "cell_type": "code",
   "execution_count": null,
   "id": "102cda4e-a70d-485d-a53a-ed06f6a77251",
   "metadata": {
    "tags": []
   },
   "outputs": [],
   "source": [
    "for index, row in bf_cleaned.iterrows():\n",
    "    word = row['price'].replace('₽', ' ')\n",
    "    word = word.replace('\\xa0', '')\n",
    "    bf_cleaned.at[index, 'price'] = int(word)"
   ]
  },
  {
   "cell_type": "code",
   "execution_count": null,
   "id": "bf21c7f3-409f-4572-ba37-90016d9a27da",
   "metadata": {
    "tags": []
   },
   "outputs": [],
   "source": [
    "for index, row in bf_cleaned.iterrows():\n",
    "    word = row['sales'].split(' ')[0]\n",
    "    if word == 'более':\n",
    "        word = row['sales'].split(' ')[1]\n",
    "    bf_cleaned.at[index, 'sales'] = int(word)"
   ]
  },
  {
   "cell_type": "code",
   "execution_count": null,
   "id": "553f45fb-2e49-49db-ae0c-9fd76e89efaf",
   "metadata": {},
   "outputs": [],
   "source": [
    "for index, row in bf_cleaned.iterrows():\n",
    "    word = row['stars'].split(',')\n",
    "    try:\n",
    "        bf_cleaned.at[index, 'stars'] = float(word[0]+'.'+word[1])\n",
    "    except:\n",
    "        bf_cleaned.at[index, 'stars'] = float(word[0]+'.'+'0')"
   ]
  },
  {
   "cell_type": "code",
   "execution_count": null,
   "id": "d2fa3249-b68f-48ec-8d1a-98b346791c77",
   "metadata": {
    "tags": []
   },
   "outputs": [],
   "source": [
    "for index, row in bf_cleaned.iterrows():\n",
    "    word = row['rec_proc'].split('%')[0]\n",
    "    bf_cleaned.at[index, 'rec_proc'] = float(word[0])/10"
   ]
  },
  {
   "cell_type": "code",
   "execution_count": null,
   "id": "da871950-be94-4c10-89b5-8b260dc97db0",
   "metadata": {},
   "outputs": [],
   "source": [
    "for index, row in bf_cleaned.iterrows():\n",
    "    word = row['RAM'].split(' ')[0]\n",
    "    bf_cleaned.at[index, 'RAM'] = int(word)"
   ]
  },
  {
   "cell_type": "code",
   "execution_count": null,
   "id": "dffce62d-2b75-4265-a7c0-fa066b3b7ed5",
   "metadata": {},
   "outputs": [],
   "source": [
    "for index, row in bf_cleaned.iterrows():\n",
    "    word = row['ROM'].split(' ')[0]\n",
    "    bf_cleaned.at[index, 'ROM'] = int(word)"
   ]
  },
  {
   "cell_type": "code",
   "execution_count": null,
   "id": "20f489c3-dfba-4083-9dc8-3a124b559682",
   "metadata": {},
   "outputs": [],
   "source": [
    "for index, row in bf_cleaned.iterrows():\n",
    "    word = row['diag'].replace('\"', '')\n",
    "    word = word.replace(',', '.')\n",
    "    bf_cleaned.at[index, 'diag'] = float(word)"
   ]
  },
  {
   "cell_type": "code",
   "execution_count": null,
   "id": "3cc40af3-a7db-4df1-a6b0-c73a10c04dce",
   "metadata": {},
   "outputs": [],
   "source": [
    "for index, row in bf_cleaned.iterrows():\n",
    "    word = row['bat'].split(' ')[0]\n",
    "    word = word.replace('\\xa0', '')\n",
    "    bf_cleaned.at[index, 'bat'] = int(word)"
   ]
  },
  {
   "cell_type": "code",
   "execution_count": null,
   "id": "c24b177f-3b0f-456b-abd6-4763e52a68b1",
   "metadata": {},
   "outputs": [],
   "source": [
    "for index, row in bf_cleaned.iterrows():\n",
    "    word = row['cam'].split(' ')[0]\n",
    "    bf_cleaned.at[index, 'cam'] = int(word)"
   ]
  },
  {
   "cell_type": "code",
   "execution_count": null,
   "id": "a02b9721-fd72-4d48-aa68-09c531df0a5a",
   "metadata": {
    "tags": []
   },
   "outputs": [],
   "source": [
    "bf_cleaned.head()"
   ]
  },
  {
   "cell_type": "code",
   "execution_count": null,
   "id": "7bfe139d-5a12-478f-8ebe-231c8d61d393",
   "metadata": {
    "tags": []
   },
   "outputs": [],
   "source": [
    "bf_cleaned.info() "
   ]
  },
  {
   "cell_type": "code",
   "execution_count": null,
   "id": "fa4b8ef9-4dce-4a85-86e4-45fa3af98f5e",
   "metadata": {
    "tags": []
   },
   "outputs": [],
   "source": [
    "bf_cleaned = bf_cleaned.astype({'price': int,'sales': int,'review_num': int,\n",
    "            'stars': float,'rec_proc': float,'RAM': int,\n",
    "            'ROM': int,'diag': float,'bat': int,'cam': int,}) \n"
   ]
  },
  {
   "cell_type": "code",
   "execution_count": null,
   "id": "e84b0451-9719-46cb-a00e-3a77d0e16491",
   "metadata": {},
   "outputs": [],
   "source": [
    "final_df = bf_cleaned.copy()"
   ]
  },
  {
   "cell_type": "code",
   "execution_count": null,
   "id": "f7525552-d372-4df8-b92d-2ae38b63beaf",
   "metadata": {
    "tags": []
   },
   "outputs": [],
   "source": [
    "bf_cleaned['OS'].unique()"
   ]
  },
  {
   "cell_type": "code",
   "execution_count": null,
   "id": "16b922c4-4f7d-45a7-98a0-5799f8bd0888",
   "metadata": {
    "tags": []
   },
   "outputs": [],
   "source": [
    "categorical_cols = bf_cleaned.select_dtypes('object').columns.tolist()\n",
    "encoder = OneHotEncoder(sparse_output=False,drop = None,\n",
    "                        dtype = np.float64,\n",
    "                        handle_unknown='ignore', sparse=False)\n",
    "\n",
    "encoder.fit(bf_cleaned[categorical_cols])\n",
    "encoded_cols = list(encoder.get_feature_names_out(categorical_cols))\n",
    "bf_cleaned[encoded_cols] = encoder.transform(bf_cleaned[categorical_cols])\n"
   ]
  },
  {
   "cell_type": "code",
   "execution_count": null,
   "id": "6fbdbfaf-dbee-4eff-93ab-9e1dfa5e9512",
   "metadata": {
    "tags": []
   },
   "outputs": [],
   "source": [
    "bf_cleaned = bf_cleaned.drop(categorical_cols, axis=1)"
   ]
  },
  {
   "cell_type": "code",
   "execution_count": null,
   "id": "aaa84e92-7ac6-4d34-b9e9-0939b07afe9e",
   "metadata": {
    "tags": []
   },
   "outputs": [],
   "source": [
    "input_columns = ['price', 'sales', 'stars', 'rec_proc', 'review_num','RAM', 'ROM', 'diag', 'bat', 'cam']\n",
    "scaler = MinMaxScaler()\n",
    "scaler.fit(bf_cleaned[input_columns])\n",
    "bf_cleaned[input_columns] = scaler.transform(bf_cleaned[input_columns])"
   ]
  },
  {
   "cell_type": "code",
   "execution_count": null,
   "id": "c9bb1eaf-5b7b-4f9a-a984-1dc51e19cb27",
   "metadata": {
    "tags": []
   },
   "outputs": [],
   "source": [
    "bf_cleaned.head()"
   ]
  },
  {
   "cell_type": "code",
   "execution_count": null,
   "id": "99c0e5a7-a787-4b82-b162-f133e34a6279",
   "metadata": {
    "tags": []
   },
   "outputs": [],
   "source": [
    "from sklearn.cluster import KMeans\n",
    "from sklearn.datasets import make_blobs\n",
    "from sklearn.metrics import silhouette_samples, silhouette_score"
   ]
  },
  {
   "cell_type": "code",
   "execution_count": null,
   "id": "b82a5427-4c3f-4839-8008-6364840d0427",
   "metadata": {
    "tags": []
   },
   "outputs": [],
   "source": [
    "for n_clusters in range(2,6):\n",
    "    clusterer = KMeans(n_clusters=n_clusters, random_state=42,n_init=\"auto\")\n",
    "    cluster_labels = clusterer.fit_predict(bf_cleaned)\n",
    "    silhouette_avg = silhouette_score(bf_cleaned, cluster_labels)\n",
    "    print(\n",
    "        \"For n_clusters =\",\n",
    "        n_clusters,\n",
    "        \"The average silhouette_score is :\",\n",
    "        silhouette_avg,\n",
    "    )"
   ]
  },
  {
   "cell_type": "code",
   "execution_count": null,
   "id": "49078670-04ae-4c47-bfcb-a080200e1522",
   "metadata": {
    "tags": []
   },
   "outputs": [],
   "source": [
    "kmeans = KMeans(n_clusters=4, random_state=42, n_init=\"auto\").fit(bf_cleaned)\n",
    "final_df[\"kmeans_4\"] = kmeans.labels_"
   ]
  },
  {
   "cell_type": "code",
   "execution_count": null,
   "id": "8affb7fb-6338-4947-9a0c-da919d561ef1",
   "metadata": {
    "tags": []
   },
   "outputs": [],
   "source": [
    "final_df.head()"
   ]
  },
  {
   "cell_type": "code",
   "execution_count": null,
   "id": "6112f46d-0971-4fd2-b1fc-2f29e8c85529",
   "metadata": {
    "tags": []
   },
   "outputs": [],
   "source": [
    "import pickle\n",
    "with open('../db/ready_data.pkl', 'wb') as f:\n",
    "    pickle.dump(final_df, f)"
   ]
  }
 ],
 "metadata": {
  "kernelspec": {
   "display_name": "Python 3 (ipykernel)",
   "language": "python",
   "name": "python3"
  },
  "language_info": {
   "codemirror_mode": {
    "name": "ipython",
    "version": 3
   },
   "file_extension": ".py",
   "mimetype": "text/x-python",
   "name": "python",
   "nbconvert_exporter": "python",
   "pygments_lexer": "ipython3",
   "version": "3.11.8"
  }
 },
 "nbformat": 4,
 "nbformat_minor": 5
}
